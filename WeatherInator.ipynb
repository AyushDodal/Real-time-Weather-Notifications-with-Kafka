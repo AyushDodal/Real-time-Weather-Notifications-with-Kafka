{
 "cells": [
  {
   "cell_type": "code",
   "execution_count": 1,
   "id": "592c8e65-b469-4e93-a90a-b8c96cf2a14a",
   "metadata": {},
   "outputs": [],
   "source": [
    "#!pip install azure-storage-blob"
   ]
  },
  {
   "cell_type": "code",
   "execution_count": 2,
   "id": "5f90e073-45e0-4007-9e46-f3228b7a0852",
   "metadata": {},
   "outputs": [],
   "source": [
    "#import os\n",
    "\n",
    "#print(\"AZURE_CLIENT_ID:\", os.getenv(\"AZURE_CLIENT_ID\"))\n",
    "#print(\"AZURE_TENANT_ID:\", os.getenv(\"AZURE_TENANT_ID\"))\n",
    "#print(\"AZURE_CLIENT_SECRET:\", os.getenv(\"AZURE_CLIENT_SECRET\"))\n"
   ]
  },
  {
   "cell_type": "code",
   "execution_count": 1,
   "id": "f46d14b1-9556-43a7-a556-4263045f1bf3",
   "metadata": {},
   "outputs": [],
   "source": [
    "from azure.identity import AzureCliCredential\n",
    "from azure.keyvault.secrets import SecretClient\n",
    "\n",
    "# Azure Key Vault configuration\n",
    "key_vault_name = \"***\"\n",
    "secret_name = \"***\"\n",
    "\n",
    "key_vault_uri = f\"https://{key_vault_name}.vault.azure.net\"\n",
    "\n",
    "# Create a SecretClient using AzureCliCredential\n",
    "credential = AzureCliCredential()\n",
    "client = SecretClient(vault_url=key_vault_uri, credential=credential)\n",
    "\n",
    "# Retrieve the API key from Azure Key Vault\n",
    "api_key = client.get_secret(secret_name).value\n",
    "\n",
    "#print(f\"The API key is: {api_key}\")\n",
    "\n",
    "# Azure Key Vault configuration\n",
    "key_vault_name2 = \"***\"\n",
    "secret_name2 = \"***\"\n",
    "\n",
    "key_vault_uri2 = f\"https://{key_vault_name2}.vault.azure.net\"\n",
    "\n",
    "# Create a SecretClient using AzureCliCredential\n",
    "credential2 = AzureCliCredential()\n",
    "client2 = SecretClient(vault_url=key_vault_uri2, credential=credential2)\n",
    "\n",
    "# Retrieve the API key from Azure Key Vault\n",
    "api_key2 = client2.get_secret(secret_name2).value"
   ]
  },
  {
   "cell_type": "code",
   "execution_count": 2,
   "id": "ad6ddef0-df15-4061-ac5d-e97ddae1f90f",
   "metadata": {},
   "outputs": [],
   "source": [
    "from azure.storage.blob import BlobServiceClient\n",
    "\n",
    "blob_service_client = BlobServiceClient.from_connection_string(api_key2)\n",
    "container_client = blob_service_client.get_container_client(\"container1\\weatherdata\")"
   ]
  },
  {
   "cell_type": "code",
   "execution_count": 4,
   "id": "99db6aa7-7008-48c1-94c4-6f251275635d",
   "metadata": {},
   "outputs": [
    {
     "name": "stdout",
     "output_type": "stream",
     "text": [
      "Uploaded blob: data_batch_1727110961.json\n",
      "Uploaded blob: data_batch_1727110991.json\n",
      "Uploaded blob: data_batch_1727111022.json\n",
      "Uploaded blob: data_batch_1727111052.json\n"
     ]
    }
   ],
   "source": [
    "import os\n",
    "import requests\n",
    "import json\n",
    "import time\n",
    "\n",
    "from kafka import KafkaProducer\n",
    "from kafka import KafkaConsumer\n",
    "\n",
    "# Kafka configuration\n",
    "bootstrap_servers='192.168.1.88:9092'\n",
    "topic_name = 'weatherdata'\n",
    "\n",
    "producer = KafkaProducer(bootstrap_servers=bootstrap_servers, value_serializer=lambda v: json.dumps(v).encode('utf-8'))\n",
    "\n",
    "\n",
    "# Variables for latitude and longitude\n",
    "lat = 69.0  # Example latitude\n",
    "lon = 69.0  # Example longitude\n",
    "\n",
    "\n",
    "\n",
    "# Function to fetch weather data\n",
    "def fetch_weather_data():\n",
    "    url = f'https://api.openweathermap.org/data/3.0/onecall?lat={lat}&lon={lon}&appid={api_key}'\n",
    "    response = requests.get(url)\n",
    "    if response.status_code == 200:\n",
    "        data = response.json()\n",
    "        return data\n",
    "    else:\n",
    "        print(f\"Failed to retrieve data: {response.status_code}\")\n",
    "        return None\n",
    "\n",
    "# Function to send data to Kafka\n",
    "def send_to_kafka(data):\n",
    "    producer.send('weatherdata', value=data)\n",
    "    producer.flush()\n",
    "\n",
    "# Main loop to fetch and send data periodically\n",
    "def main():\n",
    "    start_time = time.time()  # Record the start time\n",
    "    duration = 2 * 60  # Run for 2 minutes (120 seconds)\n",
    "    \n",
    "    while time.time() - start_time < duration:\n",
    "        weather_data = fetch_weather_data()  # Fetch the weather data every 30 seconds\n",
    "        if weather_data:\n",
    "            send_to_kafka(weather_data)  # Send the data to Kafka\n",
    "        time.sleep(30)  # Wait for 30 seconds before fetching again  \n",
    "\n",
    "\n",
    "\n",
    "# Function to consume from Kafka and upload to Azure Blob\n",
    "def consume_and_upload():\n",
    "    consumer = KafkaConsumer(topic_name, bootstrap_servers=bootstrap_servers, \n",
    "                             value_deserializer=lambda v: json.loads(v.decode('utf-8')))\n",
    "    for message in consumer:\n",
    "        data = message.value\n",
    "        blob_name = f\"data_batch_{int(time.time())}.json\"\n",
    "        blob_client = container_client.get_blob_client(blob_name)\n",
    "        try:\n",
    "            blob_client.upload_blob(json.dumps(data))\n",
    "            print(f\"Uploaded blob: {blob_name}\")\n",
    "        except Exception as e:\n",
    "            print(f\"Failed to upload blob: {e}\")\n",
    "\n",
    "\n",
    "\n",
    "if __name__ == \"__main__\":\n",
    "    # Start the consumer in a separate thread\n",
    "    import threading\n",
    "    consumer_thread = threading.Thread(target=consume_and_upload)\n",
    "    consumer_thread.start()\n",
    "\n",
    "    # Run the main function\n",
    "    main()"
   ]
  },
  {
   "cell_type": "code",
   "execution_count": null,
   "id": "575984be-0aaf-4d8c-ac23-54273fb78681",
   "metadata": {},
   "outputs": [],
   "source": []
  },
  {
   "cell_type": "code",
   "execution_count": null,
   "id": "6cdee7de-544f-4555-a6ac-8d513ff92b8a",
   "metadata": {},
   "outputs": [],
   "source": []
  },
  {
   "cell_type": "code",
   "execution_count": null,
   "id": "9b0d5b36-5bc4-466a-9e6a-1200b91f770d",
   "metadata": {},
   "outputs": [],
   "source": []
  },
  {
   "cell_type": "code",
   "execution_count": null,
   "id": "361ec1bf-aac9-4a5e-bfe9-b363f81718a5",
   "metadata": {},
   "outputs": [],
   "source": []
  },
  {
   "cell_type": "code",
   "execution_count": null,
   "id": "3381a7e4-cb36-40b8-b228-6043bbb450dd",
   "metadata": {},
   "outputs": [],
   "source": []
  },
  {
   "cell_type": "code",
   "execution_count": null,
   "id": "15dbfefa-3284-4a0b-a972-22173b3871fa",
   "metadata": {},
   "outputs": [],
   "source": []
  },
  {
   "cell_type": "code",
   "execution_count": null,
   "id": "31ff3165-e614-446f-adb2-71f86ab7db54",
   "metadata": {},
   "outputs": [],
   "source": []
  },
  {
   "cell_type": "code",
   "execution_count": null,
   "id": "6bba7d1b-5cab-4826-814f-047c9b1ff4e6",
   "metadata": {},
   "outputs": [],
   "source": []
  },
  {
   "cell_type": "code",
   "execution_count": null,
   "id": "756a8def-31b7-4589-859f-b6b7481e68d3",
   "metadata": {},
   "outputs": [],
   "source": [
    "#from geosky import geo_plug\n",
    "\n",
    "#len(geo_plug.all_CountryNames())\n",
    "\n",
    "#geo_plug.all_Country_StateNames()\n",
    "\n",
    "#geo_plug.all_State_CityNames('North Carolina')# name == 'all' or state name\n",
    "#geo_plug.all_State_CityNames('Odisha')"
   ]
  }
 ],
 "metadata": {
  "kernelspec": {
   "display_name": "Python 3 (ipykernel)",
   "language": "python",
   "name": "python3"
  },
  "language_info": {
   "codemirror_mode": {
    "name": "ipython",
    "version": 3
   },
   "file_extension": ".py",
   "mimetype": "text/x-python",
   "name": "python",
   "nbconvert_exporter": "python",
   "pygments_lexer": "ipython3",
   "version": "3.11.5"
  }
 },
 "nbformat": 4,
 "nbformat_minor": 5
}
